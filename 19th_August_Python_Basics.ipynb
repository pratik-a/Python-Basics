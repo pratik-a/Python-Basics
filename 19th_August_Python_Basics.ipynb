{
 "cells": [
  {
   "cell_type": "code",
   "execution_count": 3,
   "id": "47a3e934-99fa-49ec-a4f4-19e8de5795ba",
   "metadata": {},
   "outputs": [
    {
     "name": "stdout",
     "output_type": "stream",
     "text": [
      "x= 5\n",
      "y= 4\n"
     ]
    }
   ],
   "source": [
    "\"\"\"\n",
    "1. Declare two variables, `x` and `y`, and assign them integer values. Swap the\n",
    "values of these variables without using any temporary variable.\n",
    "\"\"\"\n",
    "\n",
    "x = 4\n",
    "y = 5\n",
    "\n",
    "x, y = y, x # swap of values\n",
    "\n",
    "print(\"x=\",x)\n",
    "print(\"y=\",y)"
   ]
  },
  {
   "cell_type": "code",
   "execution_count": 6,
   "id": "d137f10e-6f45-42e2-944e-e3a90d2faf4c",
   "metadata": {},
   "outputs": [
    {
     "name": "stdin",
     "output_type": "stream",
     "text": [
      "Enter Length 4\n",
      "Enter Width 5\n"
     ]
    },
    {
     "name": "stdout",
     "output_type": "stream",
     "text": [
      "Area of Rectangle= 20\n"
     ]
    }
   ],
   "source": [
    "\"\"\"\n",
    "2. Create a program that calculates the area of a rectangle. Take the length and\n",
    "width as inputs from the user and store them in variables. Calculate and\n",
    "display the area.\n",
    "\"\"\"\n",
    "\n",
    "length = int(input(\"Enter Length\"))\n",
    "width = int(input(\"Enter Width\"))\n",
    "\n",
    "area = length * width # area of rectangle\n",
    "\n",
    "print(\"Area of Rectangle=\",area)"
   ]
  },
  {
   "cell_type": "code",
   "execution_count": 8,
   "id": "ad9c0bbb-0abc-449c-bba1-eea08f1efcbe",
   "metadata": {},
   "outputs": [
    {
     "name": "stdin",
     "output_type": "stream",
     "text": [
      "Enter Temperature in Celsius 34.0\n"
     ]
    },
    {
     "name": "stdout",
     "output_type": "stream",
     "text": [
      "Temperature in Fahrenheit= 93.2\n"
     ]
    }
   ],
   "source": [
    "\"\"\"\n",
    "3. Write a Python program that converts temperatures from Celsius to\n",
    "Fahrenheit. Take the temperature in Celsius as input, store it in a variable,\n",
    "convert it to Fahrenheit, and display the result.\n",
    "\"\"\"\n",
    "\n",
    "cel_temp = float(input(\"Enter Temperature in Celsius\"))\n",
    "\n",
    "feh_temp = (1.8 * cel_temp) + 32\n",
    "\n",
    "print(\"Temperature in Fahrenheit=\",feh_temp)"
   ]
  },
  {
   "cell_type": "code",
   "execution_count": 9,
   "id": "a5cfea90-5232-47dd-aed4-e66c530e006a",
   "metadata": {},
   "outputs": [
    {
     "name": "stdin",
     "output_type": "stream",
     "text": [
      "Enter a String hi how are you\n"
     ]
    },
    {
     "name": "stdout",
     "output_type": "stream",
     "text": [
      "Length od String 14\n"
     ]
    }
   ],
   "source": [
    "\"\"\"\n",
    "1. Write a Python program that takes a string as input and prints the length of\n",
    "the string.\n",
    "\"\"\"\n",
    "\n",
    "str_inp = input(\"Enter a String\")\n",
    "print(\"Length od String\",len(str_inp))"
   ]
  },
  {
   "cell_type": "code",
   "execution_count": 13,
   "id": "8b26503c-dc6a-4c56-b281-b1ad75d4eeef",
   "metadata": {},
   "outputs": [
    {
     "name": "stdin",
     "output_type": "stream",
     "text": [
      "Enter a String sun moon and sky.\n"
     ]
    },
    {
     "name": "stdout",
     "output_type": "stream",
     "text": [
      "Count of a 1\n",
      "Count of e 0\n",
      "Count of i 0\n",
      "Count of o 2\n",
      "Count of u 1\n"
     ]
    }
   ],
   "source": [
    "\"\"\"\n",
    "2. Create a program that takes a sentence from the user and counts the number\n",
    "of vowels (a, e, i, o, u) in the string.\n",
    "\"\"\"\n",
    "\n",
    "str_inp = input(\"Enter a String\")\n",
    "\n",
    "a_count = 0\n",
    "e_count = 0\n",
    "i_count = 0\n",
    "o_count = 0\n",
    "u_count = 0\n",
    "\n",
    "for i in str_inp:\n",
    "    if i == 'a' or i == 'A':\n",
    "        a_count += 1\n",
    "    if i == 'e' or i == 'E':\n",
    "        e_count += 1\n",
    "    if i == 'i' or i == 'I':\n",
    "        i_count += 1\n",
    "    if i == 'o' or i == 'o':\n",
    "        o_count += 1\n",
    "    if i == 'u' or i == 'U':\n",
    "        u_count += 1\n",
    "print(\"Count of a\",a_count)\n",
    "print(\"Count of e\",e_count)\n",
    "print(\"Count of i\",i_count)\n",
    "print(\"Count of o\",o_count)\n",
    "print(\"Count of u\",u_count)"
   ]
  },
  {
   "cell_type": "code",
   "execution_count": 14,
   "id": "b676ba7e-3a4e-4487-a10c-5290727899d7",
   "metadata": {},
   "outputs": [
    {
     "name": "stdout",
     "output_type": "stream",
     "text": [
      "x= dcba\n"
     ]
    }
   ],
   "source": [
    "\"\"\"\n",
    "3. Given a string, reverse the order of characters using string slicing and print\n",
    "the reversed string.\n",
    "\"\"\"\n",
    "\n",
    "x = \"abcd\"\n",
    "print(\"x=\",x[::-1])"
   ]
  },
  {
   "cell_type": "code",
   "execution_count": 17,
   "id": "4a2cfbd0-fe4c-4e1d-935b-3916a6681523",
   "metadata": {},
   "outputs": [
    {
     "name": "stdin",
     "output_type": "stream",
     "text": [
      "Enter a tring to check palindrome abbcbba\n"
     ]
    },
    {
     "name": "stdout",
     "output_type": "stream",
     "text": [
      "Palindrome\n"
     ]
    }
   ],
   "source": [
    "\"\"\"\n",
    "Write a program that takes a string as input and checks if it is a palindrome\n",
    "(reads the same forwards and backwards).\n",
    "\"\"\"\n",
    "\n",
    "str_input = input(\"Enter a string to check palindrome\")\n",
    "\n",
    "if str_input == str_input[::-1]:\n",
    "    print(\"Palindrome\")\n",
    "else:\n",
    "    print(\"Not Palindrome\")"
   ]
  },
  {
   "cell_type": "code",
   "execution_count": 19,
   "id": "0b0fb71e-b225-46c6-856f-6943cfeae204",
   "metadata": {},
   "outputs": [
    {
     "name": "stdin",
     "output_type": "stream",
     "text": [
      "Enter a string jj jj\n"
     ]
    },
    {
     "name": "stdout",
     "output_type": "stream",
     "text": [
      "string without spsces jj jj\n"
     ]
    }
   ],
   "source": [
    "\"\"\"\n",
    "5. Create a program that takes a string as input and removes all the spaces from\n",
    "it. Print the modified string without spaces.\n",
    "\"\"\"\n",
    "str_input = input(\"Enter a string\")\n",
    "str_input = str_input.strip()\n",
    "\n",
    "print(\"string without spsces\",str_input)"
   ]
  },
  {
   "cell_type": "code",
   "execution_count": null,
   "id": "d476ba92-2184-4bd8-be1d-17b1ffb9baf9",
   "metadata": {},
   "outputs": [],
   "source": []
  }
 ],
 "metadata": {
  "kernelspec": {
   "display_name": "Python 3 (ipykernel)",
   "language": "python",
   "name": "python3"
  },
  "language_info": {
   "codemirror_mode": {
    "name": "ipython",
    "version": 3
   },
   "file_extension": ".py",
   "mimetype": "text/x-python",
   "name": "python",
   "nbconvert_exporter": "python",
   "pygments_lexer": "ipython3",
   "version": "3.10.8"
  }
 },
 "nbformat": 4,
 "nbformat_minor": 5
}
